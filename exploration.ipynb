{
 "cells": [
  {
   "cell_type": "markdown",
   "metadata": {},
   "source": [
    "# Exploratory Data Analysis\n",
    "\n",
    "This notebook is used for exploratory data analysis and visualization of the image dataset used for training the CNN model."
   ]
  },
  {
   "cell_type": "code",
   "execution_count": null,
   "metadata": {},
   "outputs": [],
   "source": [
    "import os\n",
    "import matplotlib.pyplot as plt\n",
    "import numpy as np\n",
    "from PIL import Image\n",
    "\n",
    "# Define paths\n",
    "train_dir = '../data/train'\n",
    "test_dir = '../data/test'\n",
    "\n",
    "# Function to load images\n",
    "def load_images_from_folder(folder):\n",
    "    images = []\n",
    "    for filename in os.listdir(folder):\n",
    "        img_path = os.path.join(folder, filename)\n",
    "        if os.path.isfile(img_path):\n",
    "            img = Image.open(img_path)\n",
    "            images.append(img)\n",
    "    return images\n",
    "\n",
    "# Load training images\n",
    "train_images = load_images_from_folder(train_dir)\n",
    "\n",
    "# Visualize some training images\n",
    "plt.figure(figsize=(10, 10))\n",
    "for i in range(9):\n",
    "    plt.subplot(3, 3, i + 1)\n",
    "    plt.imshow(train_images[i])\n",
    "    plt.axis('off')\n",
    "plt.show()\n",
    "\n",
    "# Display dataset distribution\n",
    "train_counts = len(os.listdir(train_dir))\n",
    "test_counts = len(os.listdir(test_dir))\n",
    "\n",
    "print(f'Training images: {train_counts}')\n",
    "print(f'Testing images: {test_counts}')"
   ]
  }
 ],
 "metadata": {
  "kernelspec": {
   "display_name": "Python 3",
   "language": "python",
   "name": "python3"
  },
  "language_info": {
   "codemirror_mode": {
    "name": "ipython",
    "version": 3
   },
   "file_extension": ".py",
   "mimetype": "text/x-python",
   "name": "python",
   "nbconvert_exporter": "python",
   "pygments_lexer": "ipython3",
   "version": "3.8.5"
  }
 },
 "nbformat": 4,
 "nbformat_minor": 4
}